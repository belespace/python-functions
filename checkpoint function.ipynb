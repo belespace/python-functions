{
 "cells": [
  {
   "cell_type": "code",
   "execution_count": 5,
   "id": "88cb5cf2",
   "metadata": {},
   "outputs": [],
   "source": [
    "def maximum(a,b,c):\n",
    "    if a>b and a>c:\n",
    "        return(a)\n",
    "    elif b>a and b>c:\n",
    "        return(b)\n",
    "    else :\n",
    "        return(c)"
   ]
  },
  {
   "cell_type": "code",
   "execution_count": 6,
   "id": "8cd53687",
   "metadata": {},
   "outputs": [
    {
     "data": {
      "text/plain": [
       "9"
      ]
     },
     "execution_count": 6,
     "metadata": {},
     "output_type": "execute_result"
    }
   ],
   "source": [
    "maximum(1,5,9)"
   ]
  },
  {
   "cell_type": "code",
   "execution_count": 8,
   "id": "a39948b5",
   "metadata": {},
   "outputs": [],
   "source": [
    "def calculation(a,b):\n",
    "    add=a+b\n",
    "    sub=a-b\n",
    "    return add,sub\n"
   ]
  },
  {
   "cell_type": "code",
   "execution_count": 9,
   "id": "bed040be",
   "metadata": {},
   "outputs": [
    {
     "data": {
      "text/plain": [
       "(50, 30)"
      ]
     },
     "execution_count": 9,
     "metadata": {},
     "output_type": "execute_result"
    }
   ],
   "source": [
    "calculation(40,10)"
   ]
  },
  {
   "cell_type": "code",
   "execution_count": 11,
   "id": "e7740072",
   "metadata": {},
   "outputs": [
    {
     "data": {
      "text/plain": [
       "5"
      ]
     },
     "execution_count": 11,
     "metadata": {},
     "output_type": "execute_result"
    }
   ],
   "source": [
    "liste = [1,2,3,4,5]\n",
    "def maximum(liste):\n",
    "    for i in range(0, len(liste)-1):\n",
    "        if liste[i]> liste[i+1]:\n",
    "            maxi= liste[i]\n",
    "        else:\n",
    "            maxi= liste[i+1]\n",
    "    return(maxi)\n",
    "maximum(liste)"
   ]
  },
  {
   "cell_type": "code",
   "execution_count": 34,
   "id": "d695a9cb",
   "metadata": {},
   "outputs": [],
   "source": [
    "oddliste\n"
   ]
  },
  {
   "cell_type": "code",
   "execution_count": 37,
   "id": "a76710d4",
   "metadata": {},
   "outputs": [],
   "source": [
    "l=[1,5,9,88,97]"
   ]
  },
  {
   "cell_type": "code",
   "execution_count": 38,
   "id": "13f27e91",
   "metadata": {},
   "outputs": [
    {
     "data": {
      "text/plain": [
       "200"
      ]
     },
     "execution_count": 38,
     "metadata": {},
     "output_type": "execute_result"
    }
   ],
   "source": [
    "sum(l)"
   ]
  },
  {
   "cell_type": "code",
   "execution_count": 47,
   "id": "92975644",
   "metadata": {},
   "outputs": [],
   "source": [
    "def mul(liste):\n",
    "    m=1\n",
    "    for i in liste:\n",
    "        m=m*i\n",
    "    return(m)\n",
    "  "
   ]
  },
  {
   "cell_type": "code",
   "execution_count": 42,
   "id": "0534360c",
   "metadata": {},
   "outputs": [],
   "source": [
    "l=[1,5,9,88,97,52,96]\n"
   ]
  },
  {
   "cell_type": "code",
   "execution_count": 49,
   "id": "2ab865dd",
   "metadata": {},
   "outputs": [
    {
     "data": {
      "text/plain": [
       "384120"
      ]
     },
     "execution_count": 49,
     "metadata": {},
     "output_type": "execute_result"
    }
   ],
   "source": [
    "mul(l)"
   ]
  },
  {
   "cell_type": "code",
   "execution_count": 55,
   "id": "6b46dd79",
   "metadata": {},
   "outputs": [],
   "source": [
    "oddliste=[]\n",
    "evenliste=[]\n",
    "for i in range(len(l)):\n",
    "    if i%2==0:\n",
    "        oddliste.append(l[i])\n",
    "    else:\n",
    "        evenliste.append(l[i])\n",
    "\n",
    "         \n",
    "       \n"
   ]
  },
  {
   "cell_type": "code",
   "execution_count": 56,
   "id": "dc6712a3",
   "metadata": {},
   "outputs": [
    {
     "data": {
      "text/plain": [
       "[5, 88, 52]"
      ]
     },
     "execution_count": 56,
     "metadata": {},
     "output_type": "execute_result"
    }
   ],
   "source": [
    "evenliste"
   ]
  },
  {
   "cell_type": "code",
   "execution_count": 57,
   "id": "b69959a5",
   "metadata": {},
   "outputs": [
    {
     "data": {
      "text/plain": [
       "[1, 9, 97, 96]"
      ]
     },
     "execution_count": 57,
     "metadata": {},
     "output_type": "execute_result"
    }
   ],
   "source": [
    "oddliste"
   ]
  },
  {
   "cell_type": "code",
   "execution_count": 61,
   "id": "d8807451",
   "metadata": {},
   "outputs": [
    {
     "data": {
      "text/plain": [
       "145"
      ]
     },
     "execution_count": 61,
     "metadata": {},
     "output_type": "execute_result"
    }
   ],
   "source": [
    "sum(evenliste)"
   ]
  },
  {
   "cell_type": "code",
   "execution_count": 62,
   "id": "48eb7d6c",
   "metadata": {},
   "outputs": [
    {
     "data": {
      "text/plain": [
       "83808"
      ]
     },
     "execution_count": 62,
     "metadata": {},
     "output_type": "execute_result"
    }
   ],
   "source": [
    "mul(oddliste)"
   ]
  },
  {
   "cell_type": "code",
   "execution_count": null,
   "id": "bff4d5ca",
   "metadata": {},
   "outputs": [],
   "source": []
  }
 ],
 "metadata": {
  "kernelspec": {
   "display_name": "Python 3 (ipykernel)",
   "language": "python",
   "name": "python3"
  },
  "language_info": {
   "codemirror_mode": {
    "name": "ipython",
    "version": 3
   },
   "file_extension": ".py",
   "mimetype": "text/x-python",
   "name": "python",
   "nbconvert_exporter": "python",
   "pygments_lexer": "ipython3",
   "version": "3.9.7"
  }
 },
 "nbformat": 4,
 "nbformat_minor": 5
}
